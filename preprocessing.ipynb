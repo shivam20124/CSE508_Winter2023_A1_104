{
 "cells": [
  {
   "cell_type": "code",
   "execution_count": 1,
   "metadata": {},
   "outputs": [
    {
     "name": "stdout",
     "output_type": "stream",
     "text": [
      "Requirement already up-to-date: nltk in c:\\users\\akshita\\appdata\\roaming\\python\\python38\\site-packages (3.8.1)\n",
      "Requirement already satisfied, skipping upgrade: joblib in c:\\users\\akshita\\appdata\\roaming\\python\\python38\\site-packages (from nltk) (1.2.0)\n",
      "Requirement already satisfied, skipping upgrade: click in c:\\users\\akshita\\appdata\\roaming\\python\\python38\\site-packages (from nltk) (8.1.3)\n",
      "Requirement already satisfied, skipping upgrade: tqdm in c:\\users\\akshita\\appdata\\roaming\\python\\python38\\site-packages (from nltk) (4.64.1)\n",
      "Requirement already satisfied, skipping upgrade: regex>=2021.8.3 in c:\\users\\akshita\\appdata\\roaming\\python\\python38\\site-packages (from nltk) (2022.10.31)\n",
      "Requirement already satisfied, skipping upgrade: colorama; platform_system == \"Windows\" in c:\\users\\akshita\\appdata\\roaming\\python\\python38\\site-packages (from click->nltk) (0.4.5)\n"
     ]
    }
   ],
   "source": [
    "!pip install --user -U nltk\n",
    "from nltk.corpus import stopwords\n",
    "en_stopwords = stopwords.words('english')"
   ]
  },
  {
   "cell_type": "code",
   "execution_count": 2,
   "metadata": {},
   "outputs": [
    {
     "name": "stderr",
     "output_type": "stream",
     "text": [
      "C:\\Users\\AKSHITA\\AppData\\Roaming\\Python\\Python38\\site-packages\\pandas\\core\\computation\\expressions.py:21: UserWarning: Pandas requires version '2.7.3' or newer of 'numexpr' (version '2.7.1' currently installed).\n",
      "  from pandas.core.computation.check import NUMEXPR_INSTALLED\n",
      "[nltk_data] Downloading package stopwords to\n",
      "[nltk_data]     C:\\Users\\AKSHITA\\AppData\\Roaming\\nltk_data...\n",
      "[nltk_data]   Package stopwords is already up-to-date!\n"
     ]
    },
    {
     "data": {
      "text/plain": [
       "True"
      ]
     },
     "execution_count": 2,
     "metadata": {},
     "output_type": "execute_result"
    }
   ],
   "source": [
    "import pandas as pd\n",
    "import numpy as np\n",
    "import re\n",
    "from nltk.probability import FreqDist\n",
    "from nltk.stem import WordNetLemmatizer\n",
    "from nltk.tokenize import sent_tokenize\n",
    "import matplotlib\n",
    "from nltk.tokenize import TweetTokenizer\n",
    "import matplotlib.pyplot as plt\n",
    "import nltk\n",
    "import nltk.data\n",
    "import numba\n",
    "import seaborn as sns\n",
    "from nltk.tokenize import sent_tokenize\n",
    "nltk.download('stopwords')\n",
    "from nltk.tokenize import RegexpTokenizer\n"
   ]
  },
  {
   "cell_type": "code",
   "execution_count": 3,
   "metadata": {},
   "outputs": [],
   "source": [
    "text=open(r\"C:\\Users\\AKSHITA\\OneDrive\\Desktop\\IIITD\\Sem6\\IR\\CSE508_Winter2023_A1_104\\cranfieldtest.txt\")\n",
    "text=text.read()\n"
   ]
  },
  {
   "cell_type": "code",
   "execution_count": 11,
   "metadata": {},
   "outputs": [
    {
     "name": "stdout",
     "output_type": "stream",
     "text": [
      "Experimental Investigation of THe aerodynamics of a wing in a slipstream an experimental study of a \n",
      "experimental investigation of the aerodynamics of a wing in a slipstream an experimental study of a \n",
      "['experimental', 'investigation', 'of', 'the', 'aerodynamics', 'of', 'a', 'wing', 'in', 'a', 'slipstream', 'an', 'experimental', 'study', 'of', 'a']\n",
      "['experimental', 'investigation', 'aerodynamics', 'wing', 'slipstream', 'experimental', 'study']\n",
      "['experimental', 'investigation', 'aerodynamics', 'wing', 'slipstream', 'experimental', 'study']\n"
     ]
    }
   ],
   "source": [
    "def preprocessing(text):\n",
    "    # text=text[0:100]\n",
    "    #Lowercasing the text\n",
    "    print(text)\n",
    "    lower=text.lower()\n",
    "    print(lower)\n",
    "\n",
    "    #Splitting into tokens\n",
    "    tokens=lower.split()\n",
    "    print(tokens)\n",
    "\n",
    "    #Removing stop words\n",
    "    without_stop = []\n",
    "    for tok in tokens:\n",
    "        if tok not in en_stopwords:\n",
    "            without_stop.append(tok)\n",
    "    print(without_stop)\n",
    "\n",
    "    #Removing Punctuations and Blank Space tokens\n",
    "    tokenizer = RegexpTokenizer(r\"\\w+\")\n",
    "    final=tokenizer.tokenize(' '.join(without_stop))\n",
    "    print(final)\n",
    "\n",
    "    return final\n",
    "\n",
    "\n",
    "preprocessing(text)"
   ]
  }
 ],
 "metadata": {
  "kernelspec": {
   "display_name": "base",
   "language": "python",
   "name": "python3"
  },
  "language_info": {
   "codemirror_mode": {
    "name": "ipython",
    "version": 3
   },
   "file_extension": ".py",
   "mimetype": "text/x-python",
   "name": "python",
   "nbconvert_exporter": "python",
   "pygments_lexer": "ipython3",
   "version": "3.8.5"
  },
  "orig_nbformat": 4,
  "vscode": {
   "interpreter": {
    "hash": "1ab4aee4b597b3fcc25415ab40ca7b59b751c848dd9e90ca5c73efe44daa822a"
   }
  }
 },
 "nbformat": 4,
 "nbformat_minor": 2
}
