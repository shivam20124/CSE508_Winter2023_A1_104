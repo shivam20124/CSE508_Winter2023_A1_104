{
 "cells": [
  {
   "cell_type": "code",
   "execution_count": null,
   "metadata": {},
   "outputs": [],
   "source": [
    "import nltk\n",
    "nltk.download('stopwords')\n",
    "!pip install --user -U nltk\n",
    "from nltk.corpus import stopwords\n",
    "en_stopwords = stopwords.words('english')"
   ]
  },
  {
   "cell_type": "code",
   "execution_count": null,
   "metadata": {},
   "outputs": [],
   "source": [
    "import pandas as pd\n",
    "import numpy as np\n",
    "import re\n",
    "from nltk.probability import FreqDist\n",
    "from nltk.stem import WordNetLemmatizer\n",
    "from nltk.tokenize import sent_tokenize\n",
    "import matplotlib\n",
    "from nltk.tokenize import TweetTokenizer\n",
    "import matplotlib.pyplot as plt\n",
    "import nltk\n",
    "import nltk.data\n",
    "import numba\n",
    "import seaborn as sns\n",
    "from nltk.tokenize import sent_tokenize\n",
    "nltk.download('stopwords')\n",
    "from nltk.tokenize import RegexpTokenizer\n",
    "import pickle"
   ]
  },
  {
   "cell_type": "code",
   "execution_count": null,
   "metadata": {},
   "outputs": [],
   "source": [
    "def preprocessing(text):\n",
    "   \n",
    "    lower=text.lower()\n",
    "    tokens=lower.split()\n",
    "    \n",
    "    without_stop = []\n",
    "    for tok in tokens:\n",
    "        if tok not in en_stopwords:\n",
    "            without_stop.append(tok)\n",
    "   \n",
    "    tokenizer = RegexpTokenizer(r\"\\w+\")\n",
    "    final=tokenizer.tokenize(' '.join(without_stop))\n",
    "\n",
    "    return final\n"
   ]
  },
  {
   "cell_type": "code",
   "execution_count": null,
   "metadata": {},
   "outputs": [],
   "source": [
    "def print_filename(docs):\n",
    "    read_filename=\"\"\n",
    "    for filenum in docs:\n",
    "        read_filename= \"\"\n",
    "        if(filenum < 10):\n",
    "            read_filename = \"cranfield\" + \"000\" + str(filenum)\n",
    "        elif(filenum<100):\n",
    "            read_filename = \"cranfield\" + \"00\" + str(filenum)\n",
    "        elif(filenum<1000):\n",
    "            read_filename = \"cranfield\" + \"0\" + str(filenum)\n",
    "        else:\n",
    "            read_filename = \"cranfield\" + str(filenum)\n",
    "        print(read_filename,end=\" \")\n",
    "    return read_filename "
   ]
  },
  {
   "cell_type": "code",
   "execution_count": null,
   "metadata": {},
   "outputs": [],
   "source": [
    "n=int(input())\n",
    "\n",
    "for i in range(n):\n",
    "    inp=input()\n",
    "    inp=preprocessing(inp)\n",
    "    if(len(inp))<=1:\n",
    "        print()\n",
    "        print(\"For bigram index, phrase should be of length 2 at least\")\n",
    "        continue\n",
    "    docs_inv=bi_invert_docs(inp)\n",
    "    print(\"Number of documents retrieved for query\",i+1,\"using bigram inverted index: \")\n",
    "    print(len(docs_inv))\n",
    "    if(len(docs_inv)==0):\n",
    "        print(\"No documents retreived\")\n",
    "        continue\n",
    "    print(\"Names of documents retrieved for query\",i+1,\"using bigram inverted index: \")\n",
    "    print_filename(docs_inv)\n",
    "\n",
    "    print()\n",
    "    docs_pos=pos_docs(inp)\n",
    "    print(\"Number of documents retrieved for query\",i+1,\"using positional index: \",len(docs_pos))\n",
    "    if(len(docs_pos)==0):\n",
    "        print(\"No documents retreived\")\n",
    "        continue\n",
    "    print(\"Names of documents retrieved for query\",i+1,\"using positional index: \",end=\" \")\n",
    "    print_filename(docs_pos)\n"
   ]
  },
  {
   "cell_type": "code",
   "execution_count": null,
   "metadata": {},
   "outputs": [],
   "source": [
    "bi_inverted = open('C:/Users/AKSHITA/OneDrive/Desktop/IIITD/Sem6/IR/CSE508_Winter2023_A1_104/Bigram_Inverted_Index_File_2', 'rb')     \n",
    "bigram_dict = pickle.load(bi_inverted)\n",
    "\n",
    "pos_index=open('C:/Users/AKSHITA/OneDrive/Desktop/IIITD/Sem6/IR/CSE508_Winter2023_A1_104/Positional_Index_File', 'rb')\n",
    "pos_dict = pickle.load(pos_index)"
   ]
  },
  {
   "cell_type": "code",
   "execution_count": null,
   "metadata": {},
   "outputs": [],
   "source": [
    "def bi_invert_docs(text):\n",
    "    if (text[0],text[1]) not in bigram_dict:\n",
    "        return []\n",
    "    docs=bigram_dict[(text[0],text[1])][1]\n",
    "    \n",
    "\n",
    "    for i in range(1,len(text)-1):\n",
    "        if (text[i],text[i+1]) not in bigram_dict:\n",
    "            return []\n",
    "        temp=bigram_dict[(text[i],text[i+1])][1]\n",
    "        docs=[value for value in docs if value in temp]\n",
    "\n",
    "    return docs"
   ]
  },
  {
   "cell_type": "code",
   "execution_count": null,
   "metadata": {},
   "outputs": [],
   "source": [
    "def pos_docs(text):\n",
    "    if text[0] not in pos_dict:\n",
    "        return []\n",
    "    and_docs=[docs for docs in pos_dict[text[0]][1]]\n",
    "    # print(text[0])\n",
    "    \n",
    "    final_docs=[]\n",
    "    for i in range(1,len(text)):\n",
    "        if text[i] not in pos_dict:\n",
    "            return []\n",
    "        else:\n",
    "            and_docs=[doc for doc in and_docs if doc in pos_dict[text[i]][1]]\n",
    "    # print(and_docs)\n",
    "    for i in and_docs:\n",
    "        word1=text[0]\n",
    "        list_pos_word1=pos_dict[word1][1][i]\n",
    "        # print(list_pos_word1)\n",
    "        flag=False\n",
    "        count=1\n",
    "        for j in range(len(list_pos_word1)):\n",
    "            # print(count)\n",
    "            pos=list_pos_word1[j]\n",
    "            count=1\n",
    "            for k in range(1,len(text)):\n",
    "                if (pos+k) in pos_dict[text[k]][1][i]:                   \n",
    "                    count=count+1\n",
    "                else:                    \n",
    "                    break\n",
    "        \n",
    "            if(count==len(text)):                \n",
    "                final_docs.append(i)\n",
    "                break\n",
    "\n",
    "    return final_docs\n",
    "\n",
    "\n",
    "# print(pos_docs(preprocessing(\"buckling shear flat plates\")))\n",
    "\n",
    "\n",
    "        \n",
    "            \n",
    "    "
   ]
  }
 ],
 "metadata": {
  "kernelspec": {
   "display_name": "base",
   "language": "python",
   "name": "python3"
  },
  "language_info": {
   "codemirror_mode": {
    "name": "ipython",
    "version": 3
   },
   "file_extension": ".py",
   "mimetype": "text/x-python",
   "name": "python",
   "nbconvert_exporter": "python",
   "pygments_lexer": "ipython3",
   "version": "3.8.5"
  },
  "orig_nbformat": 4,
  "vscode": {
   "interpreter": {
    "hash": "1ab4aee4b597b3fcc25415ab40ca7b59b751c848dd9e90ca5c73efe44daa822a"
   }
  }
 },
 "nbformat": 4,
 "nbformat_minor": 2
}
