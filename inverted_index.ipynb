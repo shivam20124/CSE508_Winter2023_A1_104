{
 "cells": [
  {
   "cell_type": "code",
   "execution_count": 3,
   "metadata": {},
   "outputs": [
    {
     "name": "stdout",
     "output_type": "stream",
     "text": [
      "Requirement already up-to-date: nltk in c:\\users\\akshita\\appdata\\roaming\\python\\python38\\site-packages (3.8.1)\n",
      "Requirement already satisfied, skipping upgrade: tqdm in c:\\users\\akshita\\appdata\\roaming\\python\\python38\\site-packages (from nltk) (4.64.1)\n",
      "Requirement already satisfied, skipping upgrade: joblib in c:\\users\\akshita\\appdata\\roaming\\python\\python38\\site-packages (from nltk) (1.2.0)\n",
      "Requirement already satisfied, skipping upgrade: click in c:\\users\\akshita\\appdata\\roaming\\python\\python38\\site-packages (from nltk) (8.1.3)\n",
      "Requirement already satisfied, skipping upgrade: regex>=2021.8.3 in c:\\users\\akshita\\appdata\\roaming\\python\\python38\\site-packages (from nltk) (2022.10.31)\n",
      "Requirement already satisfied, skipping upgrade: colorama; platform_system == \"Windows\" in c:\\users\\akshita\\appdata\\roaming\\python\\python38\\site-packages (from tqdm->nltk) (0.4.5)\n"
     ]
    },
    {
     "name": "stderr",
     "output_type": "stream",
     "text": [
      "C:\\Users\\AKSHITA\\AppData\\Roaming\\Python\\Python38\\site-packages\\pandas\\core\\computation\\expressions.py:21: UserWarning: Pandas requires version '2.7.3' or newer of 'numexpr' (version '2.7.1' currently installed).\n",
      "  from pandas.core.computation.check import NUMEXPR_INSTALLED\n",
      "[nltk_data] Downloading package stopwords to\n",
      "[nltk_data]     C:\\Users\\AKSHITA\\AppData\\Roaming\\nltk_data...\n",
      "[nltk_data]   Package stopwords is already up-to-date!\n"
     ]
    }
   ],
   "source": [
    "!pip install --user -U nltk\n",
    "from nltk.corpus import stopwords\n",
    "en_stopwords = stopwords.words('english')\n",
    "\n",
    "import pandas as pd\n",
    "import numpy as np\n",
    "import re\n",
    "from nltk.probability import FreqDist\n",
    "from nltk.stem import WordNetLemmatizer\n",
    "from nltk.tokenize import sent_tokenize\n",
    "import matplotlib\n",
    "from nltk.tokenize import TweetTokenizer\n",
    "import matplotlib.pyplot as plt\n",
    "import nltk\n",
    "import nltk.data\n",
    "import numba\n",
    "import seaborn as sns\n",
    "from nltk.tokenize import sent_tokenize\n",
    "nltk.download('stopwords')\n",
    "from nltk.tokenize import RegexpTokenizer\n"
   ]
  },
  {
   "cell_type": "code",
   "execution_count": null,
   "metadata": {},
   "outputs": [],
   "source": [
    "all_text=[]\n",
    "for i in range(0,1400):\n",
    "    text=\n",
    "    text=open(r\"C:\\Users\\AKSHITA\\OneDrive\\Desktop\\IIITD\\Sem6\\IR\\CSE508_Winter2023_A1_104\\cranfieldtest.txt\")\n",
    "text=text.read()"
   ]
  },
  {
   "cell_type": "code",
   "execution_count": 9,
   "metadata": {},
   "outputs": [],
   "source": [
    "text=open(r\"C:\\Users\\AKSHITA\\OneDrive\\Desktop\\IIITD\\Sem6\\IR\\CSE508_Winter2023_A1_104\\cranfieldtest.txt\")\n",
    "text=text.read()"
   ]
  },
  {
   "cell_type": "code",
   "execution_count": 10,
   "metadata": {},
   "outputs": [],
   "source": [
    "def preprocessing(text):\n",
    "    # text=text[0:100]\n",
    "\n",
    "    #Lowercasing the text\n",
    "    # print(text)\n",
    "    lower=text.lower()\n",
    "    # print(lower)\n",
    "\n",
    "    #Splitting into tokens\n",
    "    tokens=lower.split()\n",
    "    # print(tokens)\n",
    "\n",
    "    #Removing stop words\n",
    "    without_stop = []\n",
    "    for tok in tokens:\n",
    "        if tok not in en_stopwords:\n",
    "            without_stop.append(tok)\n",
    "    # print(without_stop)\n",
    "\n",
    "    #Removing Punctuations and Blank Space tokens\n",
    "    tokenizer = RegexpTokenizer(r\"\\w+\")\n",
    "    final=tokenizer.tokenize(' '.join(without_stop))\n",
    "    # print(final)\n",
    "\n",
    "    return final\n",
    "\n",
    "\n",
    "all_words=preprocessing(text)"
   ]
  },
  {
   "cell_type": "code",
   "execution_count": null,
   "metadata": {},
   "outputs": [],
   "source": [
    "for i in range(1400):\n",
    "    \n",
    "    #creating file names\n",
    "    filenum = i+1\n",
    "    filename= \"\"\n",
    "    if(filenum < 10):\n",
    "        filename = var + \"000\" + str(filenum)\n",
    "    elif(filenum<100):\n",
    "        filename = var + \"00\" + str(filenum)\n",
    "    elif(filenum<1000):\n",
    "        filename = var + \"0\" + str(filenum)\n",
    "    else:\n",
    "        filename = var + str(filenum)"
   ]
  },
  {
   "cell_type": "code",
   "execution_count": 12,
   "metadata": {},
   "outputs": [
    {
     "name": "stdout",
     "output_type": "stream",
     "text": [
      "80\n",
      "60\n"
     ]
    }
   ],
   "source": [
    "unique_words=[]\n",
    "for word in all_words:\n",
    "    if word not in unique_words:\n",
    "        unique_words.append(word)\n",
    "\n",
    "unique_words\n",
    "print(len(all_words))\n",
    "print(len(unique_words))"
   ]
  }
 ],
 "metadata": {
  "kernelspec": {
   "display_name": "base",
   "language": "python",
   "name": "python3"
  },
  "language_info": {
   "codemirror_mode": {
    "name": "ipython",
    "version": 3
   },
   "file_extension": ".py",
   "mimetype": "text/x-python",
   "name": "python",
   "nbconvert_exporter": "python",
   "pygments_lexer": "ipython3",
   "version": "3.8.5"
  },
  "orig_nbformat": 4,
  "vscode": {
   "interpreter": {
    "hash": "1ab4aee4b597b3fcc25415ab40ca7b59b751c848dd9e90ca5c73efe44daa822a"
   }
  }
 },
 "nbformat": 4,
 "nbformat_minor": 2
}
