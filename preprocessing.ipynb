{
 "cells": [
  {
   "cell_type": "code",
   "execution_count": null,
   "metadata": {},
   "outputs": [],
   "source": [
    "import nltk\n",
    "nltk.download('stopwords')\n",
    "!pip install --user -U nltk\n",
    "from nltk.corpus import stopwords\n",
    "en_stopwords = stopwords.words('english')"
   ]
  },
  {
   "cell_type": "code",
   "execution_count": null,
   "metadata": {},
   "outputs": [],
   "source": [
    "import pandas as pd\n",
    "import numpy as np\n",
    "import re\n",
    "from nltk.probability import FreqDist\n",
    "from nltk.stem import WordNetLemmatizer\n",
    "from nltk.tokenize import sent_tokenize\n",
    "import matplotlib\n",
    "from nltk.tokenize import TweetTokenizer\n",
    "import matplotlib.pyplot as plt\n",
    "import nltk\n",
    "import nltk.data\n",
    "import numba\n",
    "import seaborn as sns\n",
    "from nltk.tokenize import sent_tokenize\n",
    "nltk.download('stopwords')\n",
    "from nltk.tokenize import RegexpTokenizer\n"
   ]
  },
  {
   "cell_type": "code",
   "execution_count": 12,
   "metadata": {},
   "outputs": [],
   "source": [
    "var = \"d:\\College\\SEMESTER 6\\IR\\CSE508_Winter2023_A1_104\\CSE508_Winter2023_Dataset\\cranfield\"\n",
    "text_list = []\n",
    "for i in range(1400):\n",
    "    filenum = i+1\n",
    "    filename= \"\"\n",
    "    if(filenum < 10):\n",
    "        filename = var + \"000\" + str(filenum)\n",
    "    elif(filenum<100):\n",
    "        filename = var + \"00\" + str(filenum)\n",
    "    elif(filenum<1000):\n",
    "        filename = var + \"0\" + str(filenum)\n",
    "    else:\n",
    "        filename = var + str(filenum)\n",
    "    file_open = open(filename, \"r\")\n",
    "    text_read = file_open.readline()\n",
    "    # print(text_read)\n",
    "    text_list.append(text_read)\n",
    "    file_open.close()"
   ]
  },
  {
   "cell_type": "code",
   "execution_count": null,
   "metadata": {},
   "outputs": [],
   "source": [
    "def preprocessing(text):\n",
    "    # text=text[0:100]\n",
    "    #Lowercasing the text\n",
    "    print(\"Initial Text: \" + text)\n",
    "    lower=text.lower()\n",
    "    print(\"Text after lowering and befor tokenization: \" + lower)\n",
    "\n",
    "    #Splitting into tokens\n",
    "    tokens=lower.split()\n",
    "    print(\"Text after tokenization and before removing stop words: \")\n",
    "    print(tokens)\n",
    "\n",
    "    #Removing stop words\n",
    "    without_stop = []\n",
    "    for tok in tokens:\n",
    "        if tok not in en_stopwords:\n",
    "            without_stop.append(tok)\n",
    "    print(\"Text after removing stop words and before removing punctuations and blank space: \")\n",
    "    print(without_stop)\n",
    "\n",
    "    #Removing Punctuations and Blank Space tokens\n",
    "    tokenizer = RegexpTokenizer(r\"\\w+\")\n",
    "    final=tokenizer.tokenize(' '.join(without_stop))\n",
    "    \n",
    "    print(\"Final text after pre-processing: \")\n",
    "    print(final)\n",
    "\n",
    "    return final\n",
    "\n",
    "for i in range(5):\n",
    "    print(\"Starting with file number \" + str(i))\n",
    "    preprocessing(text_list[i])"
   ]
  },
  {
   "cell_type": "code",
   "execution_count": 15,
   "metadata": {},
   "outputs": [],
   "source": [
    "var_store = \"d:\\College\\SEMESTER 6\\IR\\CSE508_Winter2023_A1_104\\Processed_Files\\cranfield\"\n",
    "\n",
    "def preprocessing(text,_filename):\n",
    "    # text=text[0:100]\n",
    "    #Lowercasing the text\n",
    "    lower=text.lower()\n",
    "\n",
    "    #Splitting into tokens\n",
    "    tokens=lower.split()\n",
    "\n",
    "    #Removing stop words\n",
    "    without_stop = []\n",
    "    for tok in tokens:\n",
    "        if tok not in en_stopwords:\n",
    "            without_stop.append(tok)\n",
    "\n",
    "    #Removing Punctuations and Blank Space tokens\n",
    "    tokenizer = RegexpTokenizer(r\"\\w+\")\n",
    "    final_words=tokenizer.tokenize(' '.join(without_stop))\n",
    "    \n",
    "    with open(_filename, 'w') as filehandler:\n",
    "        for items in final_words:\n",
    "            filehandler.write(f'{items}\\n')\n",
    "\n",
    "    return final_words\n",
    "\n",
    "\n",
    "for i in range(len(text_list)):\n",
    "    filenum = i+1\n",
    "    store_filename= \"\"\n",
    "    if(filenum < 10):\n",
    "        store_filename = var_store + \"000\" + str(filenum)\n",
    "    elif(filenum<100):\n",
    "        store_filename = var_store + \"00\" + str(filenum)\n",
    "    elif(filenum<1000):\n",
    "        store_filename = var_store + \"0\" + str(filenum)\n",
    "    else:\n",
    "        store_filename = var_store + str(filenum)\n",
    "    \n",
    "    preprocessing(text_list[i], store_filename)"
   ]
  }
 ],
 "metadata": {
  "kernelspec": {
   "display_name": "base",
   "language": "python",
   "name": "python3"
  },
  "language_info": {
   "codemirror_mode": {
    "name": "ipython",
    "version": 3
   },
   "file_extension": ".py",
   "mimetype": "text/x-python",
   "name": "python",
   "nbconvert_exporter": "python",
   "pygments_lexer": "ipython3",
   "version": "3.8.5"
  },
  "orig_nbformat": 4,
  "vscode": {
   "interpreter": {
    "hash": "1ab4aee4b597b3fcc25415ab40ca7b59b751c848dd9e90ca5c73efe44daa822a"
   }
  }
 },
 "nbformat": 4,
 "nbformat_minor": 2
}
